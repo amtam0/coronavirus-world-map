{
 "cells": [
  {
   "cell_type": "code",
   "execution_count": 1,
   "metadata": {},
   "outputs": [],
   "source": [
    "import requests\n",
    "import lxml.html as lh\n",
    "import pandas as pd\n",
    "import numpy as np\n",
    "import country_converter as coco\n",
    "import itertools"
   ]
  },
  {
   "cell_type": "markdown",
   "metadata": {},
   "source": [
    "### Build df from Url"
   ]
  },
  {
   "cell_type": "code",
   "execution_count": 11,
   "metadata": {
    "scrolled": true
   },
   "outputs": [
    {
     "ename": "ValueError",
     "evalue": "cannot reshape array of size 13167 into shape (940,14)",
     "output_type": "error",
     "traceback": [
      "\u001b[0;31m---------------------------------------------------------------------------\u001b[0m",
      "\u001b[0;31mValueError\u001b[0m                                Traceback (most recent call last)",
      "\u001b[0;32m<ipython-input-11-03cdd4bc9d2e>\u001b[0m in \u001b[0;36m<module>\u001b[0;34m\u001b[0m\n\u001b[1;32m     28\u001b[0m \u001b[0;34m\u001b[0m\u001b[0m\n\u001b[1;32m     29\u001b[0m \u001b[0mcontent\u001b[0m \u001b[0;34m=\u001b[0m \u001b[0;34m[\u001b[0m\u001b[0mtd_element\u001b[0m\u001b[0;34m.\u001b[0m\u001b[0mtext_content\u001b[0m\u001b[0;34m(\u001b[0m\u001b[0;34m)\u001b[0m \u001b[0;32mfor\u001b[0m \u001b[0mtd_element\u001b[0m \u001b[0;32min\u001b[0m \u001b[0mtd_elements\u001b[0m\u001b[0;34m]\u001b[0m\u001b[0;34m\u001b[0m\u001b[0;34m\u001b[0m\u001b[0m\n\u001b[0;32m---> 30\u001b[0;31m \u001b[0mrows_content\u001b[0m \u001b[0;34m=\u001b[0m \u001b[0mnp\u001b[0m\u001b[0;34m.\u001b[0m\u001b[0marray\u001b[0m\u001b[0;34m(\u001b[0m\u001b[0mcontent\u001b[0m\u001b[0;34m)\u001b[0m\u001b[0;34m.\u001b[0m\u001b[0mreshape\u001b[0m\u001b[0;34m(\u001b[0m\u001b[0mint\u001b[0m\u001b[0;34m(\u001b[0m\u001b[0mlen\u001b[0m\u001b[0;34m(\u001b[0m\u001b[0mcontent\u001b[0m\u001b[0;34m)\u001b[0m\u001b[0;34m/\u001b[0m\u001b[0mlen\u001b[0m\u001b[0;34m(\u001b[0m\u001b[0mheaders\u001b[0m\u001b[0;34m)\u001b[0m\u001b[0;34m)\u001b[0m\u001b[0;34m,\u001b[0m\u001b[0mlen\u001b[0m\u001b[0;34m(\u001b[0m\u001b[0mheaders\u001b[0m\u001b[0;34m)\u001b[0m\u001b[0;34m)\u001b[0m\u001b[0;34m.\u001b[0m\u001b[0mtolist\u001b[0m\u001b[0;34m(\u001b[0m\u001b[0;34m)\u001b[0m\u001b[0;34m[\u001b[0m\u001b[0;34m:\u001b[0m\u001b[0;34m-\u001b[0m\u001b[0;36m1\u001b[0m\u001b[0;34m]\u001b[0m \u001b[0;31m#rm Today row\u001b[0m\u001b[0;34m\u001b[0m\u001b[0;34m\u001b[0m\u001b[0m\n\u001b[0m\u001b[1;32m     31\u001b[0m \u001b[0mrows_content\u001b[0m \u001b[0;34m=\u001b[0m \u001b[0mlist\u001b[0m\u001b[0;34m(\u001b[0m\u001b[0mk\u001b[0m \u001b[0;32mfor\u001b[0m \u001b[0mk\u001b[0m\u001b[0;34m,\u001b[0m\u001b[0m_\u001b[0m \u001b[0;32min\u001b[0m \u001b[0mitertools\u001b[0m\u001b[0;34m.\u001b[0m\u001b[0mgroupby\u001b[0m\u001b[0;34m(\u001b[0m\u001b[0mrows_content\u001b[0m\u001b[0;34m)\u001b[0m\u001b[0;34m)\u001b[0m\u001b[0;34m\u001b[0m\u001b[0;34m\u001b[0m\u001b[0m\n\u001b[1;32m     32\u001b[0m \u001b[0;34m\u001b[0m\u001b[0m\n",
      "\u001b[0;31mValueError\u001b[0m: cannot reshape array of size 13167 into shape (940,14)"
     ]
    }
   ],
   "source": [
    "url='https://www.worldometers.info/coronavirus/'\n",
    "\n",
    "# Scraping the Url\n",
    "page = requests.get(url)\n",
    "doc = lh.fromstring(page.content)\n",
    "todaydoc = doc.get_element_by_id(\"main_table_countries_today\")\n",
    "\n",
    "# Parse data\n",
    "th_elements = todaydoc.xpath('//th') # header\n",
    "td_elements = todaydoc.xpath('//td') # cells content\n",
    "\n",
    "headers = [th_element.text_content() for th_element in th_elements]\n",
    "headers = headers[:len(headers)//2]\n",
    "\n",
    "\n",
    "content = [td_element.text_content() for td_element in td_elements]\n",
    "rows_content = np.array(content).reshape(int(len(content)/len(headers)),len(headers)).tolist()[:-1] #rm Today row\n",
    "rows_content = list(k for k,_ in itertools.groupby(rows_content))\n",
    "\n",
    "df = pd.DataFrame(rows_content)\n",
    "df.columns = headers\n",
    "df = df.drop_duplicates(subset= 'Country,Other', keep='first')"
   ]
  },
  {
   "cell_type": "code",
   "execution_count": 22,
   "metadata": {},
   "outputs": [
    {
     "data": {
      "text/plain": [
       "'\\n#\\nCountry,Other\\nTotalCases\\nNewCases\\nTotalDeaths\\nNewDeaths\\n TotalRecovered\\nNewRecovered\\nActiveCases\\nSerious,Critical\\nTot\\xa0Cases/1M pop\\nDeaths/1M pop\\nTotalTests\\nTests/\\n1M pop\\n\\nPopulation\\nContinent\\n1 Caseevery X ppl1 Deathevery X ppl1 Testevery X ppl\\n'"
      ]
     },
     "execution_count": 22,
     "metadata": {},
     "output_type": "execute_result"
    }
   ],
   "source": [
    "ref_headers = ['Country,Other',\n",
    "  'TotalCases',\n",
    "  'NewCases',\n",
    "  'TotalDeaths',\n",
    "  'NewDeaths',\n",
    "  'TotalRecovered',\n",
    "  'NewRecovered',\n",
    "  'ActiveCases',\n",
    "  'Serious,Critical',\n",
    "  'Tot\\xa0Cases/1M pop',\n",
    "  'Deaths/1M pop',\n",
    "  'TotalTests',\n",
    "  'Tests/\\n1M pop\\n',\n",
    "  'Population']\n",
    "\n",
    "[el.text_content() for el in todaydoc.xpath('//tr')][0]"
   ]
  },
  {
   "cell_type": "code",
   "execution_count": 30,
   "metadata": {},
   "outputs": [],
   "source": [
    "import bs4 as bs\n",
    "import urllib.request\n",
    "import pandas as pd\n",
    "\n",
    "req = urllib.request.Request(url, headers={'User-Agent': 'Mozilla/5.0'})\n",
    "\n",
    "source = urllib.request.urlopen(req).read()\n",
    "# source = urllib.request.urlopen(url).read()\n",
    "soup = bs.BeautifulSoup(source,'lxml')\n",
    "\n",
    "table = soup.find('table', attrs={'id':'main_table_countries_today'})\n",
    "table_rows = table.find_all('tr')\n",
    "# table_rows\n",
    "l = []\n",
    "for tr in table_rows:\n",
    "    td = tr.find_all('td')\n",
    "    row = [tr.text for tr in td]\n",
    "    l.append(row)"
   ]
  },
  {
   "cell_type": "code",
   "execution_count": null,
   "metadata": {},
   "outputs": [],
   "source": [
    "table.find_all('th')"
   ]
  },
  {
   "cell_type": "code",
   "execution_count": null,
   "metadata": {
    "scrolled": false
   },
   "outputs": [],
   "source": [
    "# Convert values to float\n",
    "for i,col_name in enumerate(df.columns):\n",
    "    print\n",
    "    if i!=0:\n",
    "        df[col_name] = pd.to_numeric(df[col_name].apply(lambda x:x.replace(\",\",\"\")),errors='coerce')\n",
    "        \n",
    "# Convert country to ISO codes\n",
    "countries_list = df[\"Country,Other\"]\\\n",
    ".apply(lambda x: x.strip()).replace({'UK': 'Great Britain', 'UAE': 'United Arab Emirates'}).values.tolist()\n",
    "df[\"iso_alpha\"] = pd.Series(coco.convert(names=countries_list, to='ISO3', not_found=None))\n",
    "\n",
    "# Rename comma seperated cols\n",
    "df = df.rename(columns={'Country,Other': 'Country',\n",
    "                  'Serious,Critical': 'Critical'})\n",
    "\n",
    "df = df.fillna(0)\n",
    "\n",
    "# Create text that will be display on hover\n",
    "df[\"text\"] = df['Country'].apply(lambda x: x.strip()) + '<br>' + \\\n",
    "    'Active Cases ' + df['ActiveCases'].astype(int).astype(str) + \\\n",
    "    '<br>' + 'Total Deaths ' + df['TotalDeaths'].astype(int).astype(str)"
   ]
  },
  {
   "cell_type": "code",
   "execution_count": null,
   "metadata": {},
   "outputs": [],
   "source": [
    "# Export Dataframe\n",
    "df.to_csv(\"static/data/corona.csv\",index=False,sep=\",\")"
   ]
  },
  {
   "cell_type": "markdown",
   "metadata": {},
   "source": [
    "### Visualize df using Plotly (Optional)"
   ]
  },
  {
   "cell_type": "code",
   "execution_count": 15,
   "metadata": {},
   "outputs": [],
   "source": [
    "# import plotly.express as px\n",
    "# import datetime\n",
    "# today_date = datetime.datetime.today().date().strftime(\"%d-%m-%Y\")\n",
    "# fig = px.choropleth(df, locations=\"iso_alpha\",\n",
    "#                     color=\"TotalCases\",\n",
    "#                     hover_name=\"Country\",\n",
    "#                     color_continuous_scale=px.colors.diverging.Portland,\n",
    "#                    title='Daily Coronavirus Cases in the Word [{}]'.format(today_date)\\\n",
    "#                     +' Source: <a https://www.worldometers.info/coronavirus/\">Worldometers</a>',\n",
    "#                    height=600,\n",
    "#                    range_color=[0,1000],\n",
    "#                    labels={'TotalCases':'Min Number of cases'})\n",
    "# fig.show()"
   ]
  }
 ],
 "metadata": {
  "kernelspec": {
   "display_name": "Python 3",
   "language": "python",
   "name": "python3"
  },
  "language_info": {
   "codemirror_mode": {
    "name": "ipython",
    "version": 3
   },
   "file_extension": ".py",
   "mimetype": "text/x-python",
   "name": "python",
   "nbconvert_exporter": "python",
   "pygments_lexer": "ipython3",
   "version": "3.6.9"
  }
 },
 "nbformat": 4,
 "nbformat_minor": 4
}
