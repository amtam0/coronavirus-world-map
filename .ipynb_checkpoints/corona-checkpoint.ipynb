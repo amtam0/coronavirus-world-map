{
 "cells": [
  {
   "cell_type": "code",
   "execution_count": 49,
   "metadata": {},
   "outputs": [],
   "source": [
    "import requests\n",
    "import lxml.html as lh\n",
    "import pandas as pd\n",
    "import numpy as np\n",
    "import country_converter as coco"
   ]
  },
  {
   "cell_type": "markdown",
   "metadata": {},
   "source": [
    "### Build df from Url"
   ]
  },
  {
   "cell_type": "code",
   "execution_count": 50,
   "metadata": {},
   "outputs": [],
   "source": [
    "url='https://www.worldometers.info/coronavirus/'\n",
    "\n",
    "# Scraping the Url\n",
    "page = requests.get(url)\n",
    "doc = lh.fromstring(page.content)\n",
    "\n",
    "# Parse data\n",
    "th_elements = doc.xpath('//th') # header\n",
    "td_elements = doc.xpath('//td') # cells content\n",
    "\n",
    "headers = [th_element.text_content() for th_element in th_elements]\n",
    "content = [td_element.text_content() for td_element in td_elements]\n",
    "rows_content = np.array(content).reshape(int(len(content)/len(headers)),len(headers)).tolist()\n",
    "\n",
    "df = pd.DataFrame(rows_content)\n",
    "df.columns = headers\n",
    "df = df[:-1] # drop Total row"
   ]
  },
  {
   "cell_type": "code",
   "execution_count": 54,
   "metadata": {},
   "outputs": [
    {
     "data": {
      "text/plain": [
       "<Element html at 0x7f057bb1d278>"
      ]
     },
     "execution_count": 54,
     "metadata": {},
     "output_type": "execute_result"
    }
   ],
   "source": [
    "doc"
   ]
  },
  {
   "cell_type": "code",
   "execution_count": 52,
   "metadata": {},
   "outputs": [
    {
     "name": "stderr",
     "output_type": "stream",
     "text": [
      "WARNING:root:Diamond Princess not found in regex\n",
      "WARNING:root:DRC not found in ISO3\n",
      "WARNING:root:Channel Islands not found in regex\n",
      "WARNING:root:CAR not found in ISO3\n",
      "WARNING:root:Total: not found in regex\n",
      "WARNING:root:Diamond Princess not found in regex\n",
      "WARNING:root:Channel Islands not found in regex\n",
      "WARNING:root:DRC not found in ISO3\n",
      "WARNING:root:CAR not found in ISO3\n"
     ]
    }
   ],
   "source": [
    "# Convert values to float\n",
    "for i,col_name in enumerate(df.columns):\n",
    "    print\n",
    "    if i!=0:\n",
    "        df[col_name] = pd.to_numeric(df[col_name].apply(lambda x:x.replace(\",\",\"\")),errors='coerce')\n",
    "        \n",
    "# Convert country to ISO codes\n",
    "countries_list = df[\"Country,Other\"]\\\n",
    ".apply(lambda x: x.strip()).replace({'UK': 'Great Britain', 'UAE': 'United Arab Emirates'}).values.tolist()\n",
    "df[\"iso_alpha\"] = pd.Series(coco.convert(names=countries_list, to='ISO3', not_found=None))\n",
    "\n",
    "# Rename comma seperated cols\n",
    "df = df.rename(columns={'Country,Other': 'Country',\n",
    "                  'Serious,Critical': 'Critical'})\n",
    "\n",
    "df = df.fillna(0)\n",
    "\n",
    "# Create text that will be display on hover\n",
    "df[\"text\"] = df['Country'].apply(lambda x: x.strip()) + '<br>' + \\\n",
    "    'Active Cases ' + df['ActiveCases'].astype(int).astype(str) + \\\n",
    "    '<br>' + 'Total Deaths ' + df['TotalDeaths'].astype(int).astype(str)"
   ]
  },
  {
   "cell_type": "code",
   "execution_count": 53,
   "metadata": {},
   "outputs": [
    {
     "data": {
      "text/plain": [
       "(353, 11)"
      ]
     },
     "execution_count": 53,
     "metadata": {},
     "output_type": "execute_result"
    }
   ],
   "source": [
    "df.shape"
   ]
  },
  {
   "cell_type": "code",
   "execution_count": 9,
   "metadata": {},
   "outputs": [],
   "source": [
    "# Export Dataframe\n",
    "df.to_csv(\"static/data/corona.csv\",index=False,sep=\",\")"
   ]
  },
  {
   "cell_type": "markdown",
   "metadata": {},
   "source": [
    "### Visualize df using Plotly (Optional)"
   ]
  },
  {
   "cell_type": "code",
   "execution_count": null,
   "metadata": {},
   "outputs": [],
   "source": [
    "# import plotly.express as px\n",
    "# import datetime\n",
    "# today_date = datetime.datetime.today().date().strftime(\"%d-%m-%Y\")\n",
    "# fig = px.choropleth(df, locations=\"iso_alpha\",\n",
    "#                     color=\"TotalCases\",\n",
    "#                     hover_name=\"Country\",\n",
    "#                     color_continuous_scale=px.colors.diverging.Portland,\n",
    "#                    title='Daily Coronavirus Cases in the Word [{}]'.format(today_date)\\\n",
    "#                     +' Source: <a https://www.worldometers.info/coronavirus/\">Worldometers</a>',\n",
    "#                    height=600,\n",
    "#                    range_color=[0,1000],\n",
    "#                    labels={'TotalCases':'Min Number of cases'})\n",
    "# fig.show()"
   ]
  }
 ],
 "metadata": {
  "kernelspec": {
   "display_name": "Python 3",
   "language": "python",
   "name": "python3"
  },
  "language_info": {
   "codemirror_mode": {
    "name": "ipython",
    "version": 3
   },
   "file_extension": ".py",
   "mimetype": "text/x-python",
   "name": "python",
   "nbconvert_exporter": "python",
   "pygments_lexer": "ipython3",
   "version": "3.6.9"
  }
 },
 "nbformat": 4,
 "nbformat_minor": 4
}
