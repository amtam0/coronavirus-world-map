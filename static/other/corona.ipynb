{
 "cells": [
  {
   "cell_type": "code",
   "execution_count": 55,
   "metadata": {},
   "outputs": [],
   "source": [
    "import requests\n",
    "import lxml.html as lh\n",
    "import pandas as pd\n",
    "import numpy as np\n",
    "import country_converter as coco\n",
    "import itertools"
   ]
  },
  {
   "cell_type": "markdown",
   "metadata": {},
   "source": [
    "### Build df from Url"
   ]
  },
  {
   "cell_type": "code",
   "execution_count": 60,
   "metadata": {
    "scrolled": true
   },
   "outputs": [],
   "source": [
    "url='https://www.worldometers.info/coronavirus/'\n",
    "\n",
    "# Scraping the Url\n",
    "page = requests.get(url)\n",
    "doc = lh.fromstring(page.content)\n",
    "todaydoc = doc.get_element_by_id(\"main_table_countries_today\")\n",
    "\n",
    "# Parse data\n",
    "th_elements = todaydoc.xpath('//th') # header\n",
    "td_elements = todaydoc.xpath('//td') # cells content\n",
    "\n",
    "headers = [th_element.text_content() for th_element in th_elements]\n",
    "# headers = list(set(headers))\n",
    "headers = headers[:len(headers)//2]\n",
    "\n",
    "content = [td_element.text_content() for td_element in td_elements]\n",
    "rows_content = np.array(content).reshape(int(len(content)/len(headers)),len(headers)).tolist()[:-1] #rm Today row\n",
    "rows_content = list(k for k,_ in itertools.groupby(rows_content))\n",
    "# rows_content = rows_content[:len(rows_content)//2]\n",
    "\n",
    "df = pd.DataFrame(rows_content)\n",
    "df.columns = headers\n",
    "df = df.drop_duplicates(subset= 'Country,Other', keep='first')"
   ]
  },
  {
   "cell_type": "code",
   "execution_count": 61,
   "metadata": {},
   "outputs": [
    {
     "data": {
      "text/html": [
       "<div>\n",
       "<style scoped>\n",
       "    .dataframe tbody tr th:only-of-type {\n",
       "        vertical-align: middle;\n",
       "    }\n",
       "\n",
       "    .dataframe tbody tr th {\n",
       "        vertical-align: top;\n",
       "    }\n",
       "\n",
       "    .dataframe thead th {\n",
       "        text-align: right;\n",
       "    }\n",
       "</style>\n",
       "<table border=\"1\" class=\"dataframe\">\n",
       "  <thead>\n",
       "    <tr style=\"text-align: right;\">\n",
       "      <th></th>\n",
       "      <th>Country,Other</th>\n",
       "      <th>TotalCases</th>\n",
       "      <th>NewCases</th>\n",
       "      <th>TotalDeaths</th>\n",
       "      <th>NewDeaths</th>\n",
       "      <th>TotalRecovered</th>\n",
       "      <th>ActiveCases</th>\n",
       "      <th>Serious,Critical</th>\n",
       "      <th>Tot Cases/1M pop</th>\n",
       "      <th>Deaths/1M pop</th>\n",
       "      <th>TotalTests</th>\n",
       "      <th>Tests/\\n1M pop\\n</th>\n",
       "    </tr>\n",
       "  </thead>\n",
       "  <tbody>\n",
       "    <tr>\n",
       "      <th>210</th>\n",
       "      <td>China</td>\n",
       "      <td>81,669</td>\n",
       "      <td>+30</td>\n",
       "      <td>3,329</td>\n",
       "      <td>+3</td>\n",
       "      <td>76,964</td>\n",
       "      <td>1,376</td>\n",
       "      <td>295</td>\n",
       "      <td>57</td>\n",
       "      <td>2</td>\n",
       "      <td></td>\n",
       "      <td></td>\n",
       "    </tr>\n",
       "  </tbody>\n",
       "</table>\n",
       "</div>"
      ],
      "text/plain": [
       "    Country,Other TotalCases NewCases TotalDeaths NewDeaths TotalRecovered  \\\n",
       "210         China     81,669      +30      3,329         +3         76,964   \n",
       "\n",
       "    ActiveCases Serious,Critical Tot Cases/1M pop Deaths/1M pop TotalTests  \\\n",
       "210       1,376              295               57             2              \n",
       "\n",
       "    Tests/\\n1M pop\\n  \n",
       "210                   "
      ]
     },
     "execution_count": 61,
     "metadata": {},
     "output_type": "execute_result"
    }
   ],
   "source": [
    "df[df[\"Country,Other\"]==\"China\"]"
   ]
  },
  {
   "cell_type": "code",
   "execution_count": 3,
   "metadata": {
    "scrolled": false
   },
   "outputs": [
    {
     "name": "stderr",
     "output_type": "stream",
     "text": [
      "WARNING:root:World not found in regex\n",
      "WARNING:root:Diamond Princess not found in regex\n",
      "WARNING:root:Channel Islands not found in regex\n",
      "WARNING:root:DRC not found in ISO3\n",
      "WARNING:root:MS Zaandam not found in regex\n",
      "WARNING:root:CAR not found in ISO3\n"
     ]
    }
   ],
   "source": [
    "# Convert values to float\n",
    "for i,col_name in enumerate(df.columns):\n",
    "    print\n",
    "    if i!=0:\n",
    "        df[col_name] = pd.to_numeric(df[col_name].apply(lambda x:x.replace(\",\",\"\")),errors='coerce')\n",
    "        \n",
    "# Convert country to ISO codes\n",
    "countries_list = df[\"Country,Other\"]\\\n",
    ".apply(lambda x: x.strip()).replace({'UK': 'Great Britain', 'UAE': 'United Arab Emirates'}).values.tolist()\n",
    "df[\"iso_alpha\"] = pd.Series(coco.convert(names=countries_list, to='ISO3', not_found=None))\n",
    "\n",
    "# Rename comma seperated cols\n",
    "df = df.rename(columns={'Country,Other': 'Country',\n",
    "                  'Serious,Critical': 'Critical'})\n",
    "\n",
    "df = df.fillna(0)\n",
    "\n",
    "# Create text that will be display on hover\n",
    "df[\"text\"] = df['Country'].apply(lambda x: x.strip()) + '<br>' + \\\n",
    "    'Active Cases ' + df['ActiveCases'].astype(int).astype(str) + \\\n",
    "    '<br>' + 'Total Deaths ' + df['TotalDeaths'].astype(int).astype(str)"
   ]
  },
  {
   "cell_type": "code",
   "execution_count": 63,
   "metadata": {},
   "outputs": [],
   "source": [
    "# Export Dataframe\n",
    "df.to_csv(\"static/data/corona.csv\",index=False,sep=\",\")"
   ]
  },
  {
   "cell_type": "markdown",
   "metadata": {},
   "source": [
    "### Visualize df using Plotly (Optional)"
   ]
  },
  {
   "cell_type": "code",
   "execution_count": 65,
   "metadata": {},
   "outputs": [],
   "source": [
    "# import plotly.express as px\n",
    "# import datetime\n",
    "# today_date = datetime.datetime.today().date().strftime(\"%d-%m-%Y\")\n",
    "# fig = px.choropleth(df, locations=\"iso_alpha\",\n",
    "#                     color=\"TotalCases\",\n",
    "#                     hover_name=\"Country\",\n",
    "#                     color_continuous_scale=px.colors.diverging.Portland,\n",
    "#                    title='Daily Coronavirus Cases in the Word [{}]'.format(today_date)\\\n",
    "#                     +' Source: <a https://www.worldometers.info/coronavirus/\">Worldometers</a>',\n",
    "#                    height=600,\n",
    "#                    range_color=[0,1000],\n",
    "#                    labels={'TotalCases':'Min Number of cases'})\n",
    "# fig.show()"
   ]
  }
 ],
 "metadata": {
  "kernelspec": {
   "display_name": "Python 3",
   "language": "python",
   "name": "python3"
  },
  "language_info": {
   "codemirror_mode": {
    "name": "ipython",
    "version": 3
   },
   "file_extension": ".py",
   "mimetype": "text/x-python",
   "name": "python",
   "nbconvert_exporter": "python",
   "pygments_lexer": "ipython3",
   "version": "3.6.9"
  }
 },
 "nbformat": 4,
 "nbformat_minor": 4
}
